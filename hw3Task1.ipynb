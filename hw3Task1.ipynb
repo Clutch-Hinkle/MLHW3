{
 "cells": [
  {
   "cell_type": "markdown",
   "metadata": {},
   "source": [
    "Load librarys"
   ]
  },
  {
   "cell_type": "code",
   "execution_count": 3,
   "metadata": {},
   "outputs": [],
   "source": [
    "import numpy as np # linear algebra\n",
    "import random as rnd\n",
    "import math\n",
    "from scipy.spatial import distance\n",
    "from statistics import mode"
   ]
  },
  {
   "cell_type": "markdown",
   "metadata": {},
   "source": [
    "Functions for loading the Data"
   ]
  },
  {
   "cell_type": "code",
   "execution_count": 4,
   "metadata": {},
   "outputs": [],
   "source": [
    "def loadCSV(fileName):\n",
    "    fileHandler = open(fileName, \"rt\")\n",
    "    lines = fileHandler.readlines()\n",
    "    fileHandler.close()\n",
    "    del lines[0] # remove the header\n",
    "    dataset = []\n",
    "    for line in lines:\n",
    "        instance = lineToTuple(line)\n",
    "        dataset.append(instance)\n",
    "    return dataset\n",
    "\n",
    "def lineToTuple(line):\n",
    "    # remove leading/trailing witespace and newlines\n",
    "    cleanLine = line.strip()\n",
    "    # get rid of quotes\n",
    "    cleanLine = cleanLine.replace('\"', '')\n",
    "    # separate the fields\n",
    "    lineList = cleanLine.split(\",\")\n",
    "    # convert strings into numbers\n",
    "    stringsToNumbers(lineList)\n",
    "    lineTuple = tuple(lineList)\n",
    "    return lineTuple\n",
    "\n",
    "def stringsToNumbers(myList):\n",
    "    for i in range(len(myList)):\n",
    "        if (isValidNumberString(myList[i])):\n",
    "            myList[i] = float(myList[i])\n",
    "\n",
    "def isValidNumberString(s):\n",
    "  if len(s) == 0:\n",
    "    return False\n",
    "  if  len(s) > 1 and s[0] == \"-\":\n",
    "      s = s[1:]\n",
    "  for c in s:\n",
    "    if c not in \"0123456789.\":\n",
    "      return False\n",
    "  return True"
   ]
  },
  {
   "cell_type": "markdown",
   "metadata": {},
   "source": [
    "Loading the data"
   ]
  },
  {
   "cell_type": "code",
   "execution_count": 5,
   "metadata": {},
   "outputs": [],
   "source": [
    "# Load the data\n",
    "# data = loadCSV('./kmeans_data/data.csv')\n",
    "data = loadCSV('./kmeans_data/data.csv')"
   ]
  },
  {
   "cell_type": "markdown",
   "metadata": {},
   "source": [
    "Code For K-Means using Euclidean Distance"
   ]
  },
  {
   "cell_type": "code",
   "execution_count": 6,
   "metadata": {},
   "outputs": [],
   "source": [
    "def assignPointsEuclidean(data,centroids):\n",
    "    labels = []\n",
    "    for point in data:\n",
    "        label = 0\n",
    "        minDistance = float('inf')\n",
    "        for i , center in enumerate(centroids):\n",
    "            dist = math.dist(point,center)\n",
    "            if dist < minDistance:\n",
    "                label = i\n",
    "                minDistance = dist\n",
    "        \n",
    "        labels.append(label)\n",
    "    \n",
    "    return labels\n",
    "\n",
    "def computeNewCentroids(data, labels, centroids):\n",
    "    numCenters = len(centroids)\n",
    "    orderedPoints = [[] for _ in range(numCenters)]\n",
    "    newCentroids = []\n",
    "    for i , point in enumerate(data):\n",
    "        label = labels[i]\n",
    "        orderedPoints[label].append(point)\n",
    "\n",
    "    for list in orderedPoints:\n",
    "        x = np.array(list)\n",
    "        newCenter = np.average(x, axis=0)\n",
    "        newCentroids.append(newCenter.tolist())\n",
    "    \n",
    "    return newCentroids\n",
    "\n",
    "def kMeansEuclidean(data,numClusters):\n",
    "    centroids = rnd.sample(data, numClusters)\n",
    "    while True:\n",
    "        labels = assignPointsEuclidean(data, centroids)\n",
    "        newCentroids = computeNewCentroids(data,labels,centroids)\n",
    "        if centroids == newCentroids:\n",
    "            break\n",
    "        centroids = newCentroids\n",
    "    \n",
    "    return centroids, labels\n"
   ]
  },
  {
   "cell_type": "markdown",
   "metadata": {},
   "source": [
    "Code for Kmeans using Cosine Similarity Distance"
   ]
  },
  {
   "cell_type": "code",
   "execution_count": 7,
   "metadata": {},
   "outputs": [],
   "source": [
    "def assignPointsCosine(data,centroids):\n",
    "    labels = []\n",
    "    for point in data:\n",
    "        label = 0\n",
    "        minDistance = float('inf')\n",
    "        for i , center in enumerate(centroids):\n",
    "            \n",
    "            dist = distance.cosine(point,center)\n",
    "            if dist < minDistance:\n",
    "                label = i\n",
    "                minDistance = dist\n",
    "        \n",
    "        labels.append(label)\n",
    "    \n",
    "    return labels\n",
    "\n",
    "\n",
    "def kMeansCosine(data,numClusters):\n",
    "    centroids = rnd.sample(data, numClusters)\n",
    "    while True:\n",
    "        labels = assignPointsCosine(data, centroids)\n",
    "        newCentroids = computeNewCentroids(data,labels,centroids)\n",
    "        if centroids == newCentroids:\n",
    "            break\n",
    "        centroids = newCentroids\n",
    "    \n",
    "    return centroids, labels\n"
   ]
  },
  {
   "cell_type": "markdown",
   "metadata": {},
   "source": [
    "Code for K-means using Generalized Jaccard Dist"
   ]
  },
  {
   "cell_type": "code",
   "execution_count": 8,
   "metadata": {},
   "outputs": [],
   "source": [
    "def generalizedJaccardDist(A, B):\n",
    "    min = []\n",
    "    max = []\n",
    "    for i in range(len(A)):\n",
    "        x = A[i]\n",
    "        y = B[i]\n",
    "        if x > y:\n",
    "            min.append(y)\n",
    "            max.append(x)\n",
    "        else:\n",
    "            min.append(x)\n",
    "            max.append(y)\n",
    "    \n",
    "    return 1 - (sum(min) / sum(max))\n",
    "\n",
    "def assignPointsJaccard(data,centroids):\n",
    "    labels = []\n",
    "    for point in data:\n",
    "        label = 0\n",
    "        minDistance = float('inf')\n",
    "        for i , center in enumerate(centroids):\n",
    "            \n",
    "            dist = generalizedJaccardDist(point,center)\n",
    "            if dist < minDistance:\n",
    "                label = i\n",
    "                minDistance = dist\n",
    "        \n",
    "        labels.append(label)\n",
    "    \n",
    "    return labels\n",
    "\n",
    "\n",
    "def kMeansJaccard(data,numClusters):\n",
    "    centroids = rnd.sample(data, numClusters)\n",
    "    while True:\n",
    "        labels = assignPointsJaccard(data, centroids)\n",
    "        newCentroids = computeNewCentroids(data,labels,centroids)\n",
    "        if centroids == newCentroids:\n",
    "            break\n",
    "        centroids = newCentroids\n",
    "    \n",
    "    return centroids, labels"
   ]
  },
  {
   "cell_type": "code",
   "execution_count": 9,
   "metadata": {},
   "outputs": [],
   "source": [
    "euclideanCentroids, euclideanLabels = kMeansEuclidean(data,10)"
   ]
  },
  {
   "cell_type": "code",
   "execution_count": 10,
   "metadata": {},
   "outputs": [],
   "source": [
    "cosineCentroids, cosineLabels = kMeansCosine(data,10)"
   ]
  },
  {
   "cell_type": "code",
   "execution_count": 11,
   "metadata": {},
   "outputs": [],
   "source": [
    "jaccardCentroids, jaccardLabels = kMeansJaccard(data, 10)"
   ]
  },
  {
   "cell_type": "markdown",
   "metadata": {},
   "source": [
    "Creating SSE functions for each of the types of distances"
   ]
  },
  {
   "cell_type": "code",
   "execution_count": 12,
   "metadata": {},
   "outputs": [],
   "source": [
    "def sSE(data,labels,centroids):\n",
    "    sse = 0.0\n",
    "    for i, point in enumerate(data):\n",
    "        center = centroids[labels[i]]\n",
    "        sse += math.dist(point,center) * math.dist(point,center)\n",
    "    return sse"
   ]
  },
  {
   "cell_type": "markdown",
   "metadata": {},
   "source": [
    "Comparing SSEs"
   ]
  },
  {
   "cell_type": "code",
   "execution_count": 13,
   "metadata": {},
   "outputs": [
    {
     "name": "stdout",
     "output_type": "stream",
     "text": [
      "SSE of k-means euclidean: 25316245969.759285\n",
      "SSE of k-means cosine: 25678352105.430767\n",
      "SSE of k-means jaccard: 25601961159.162224\n"
     ]
    }
   ],
   "source": [
    "print('SSE of k-means euclidean:', sSE(data,euclideanLabels,euclideanCentroids))\n",
    "print('SSE of k-means cosine:', sSE(data,cosineLabels,cosineCentroids))\n",
    "print('SSE of k-means jaccard:', sSE(data,jaccardLabels,jaccardCentroids))"
   ]
  },
  {
   "cell_type": "markdown",
   "metadata": {},
   "source": [
    "Import Labels csv"
   ]
  },
  {
   "cell_type": "code",
   "execution_count": 14,
   "metadata": {},
   "outputs": [],
   "source": [
    "f = open('./kmeans_data/label.csv')\n",
    "trueLabels = []\n",
    "lines = f.readlines()\n",
    "for line in lines:\n",
    "    trueLabels.append(int(line))"
   ]
  },
  {
   "cell_type": "code",
   "execution_count": 15,
   "metadata": {},
   "outputs": [],
   "source": [
    "\n",
    "def getTrueLabelsOfClusters(data, tmplabels, trueLabels):\n",
    "    tmp = [[] for _ in range(10)]\n",
    "    l = []\n",
    "    labels = []\n",
    "    for i, lbl in enumerate(tmplabels):\n",
    "        tmp[lbl].append(trueLabels[i])\n",
    "    \n",
    "    for x in tmp:\n",
    "        l.append(mode(x))\n",
    "    \n",
    "    for x in tmplabels:\n",
    "        labels.append(l[x])\n",
    "\n",
    "    return labels\n",
    "\n",
    "\n",
    "euclideanLabels = getTrueLabelsOfClusters(data,euclideanLabels, trueLabels)\n",
    "cosineLabels = getTrueLabelsOfClusters(data,cosineLabels, trueLabels)\n",
    "jaccardLabels = getTrueLabelsOfClusters(data,jaccardLabels, trueLabels)"
   ]
  },
  {
   "cell_type": "code",
   "execution_count": 16,
   "metadata": {},
   "outputs": [
    {
     "name": "stdout",
     "output_type": "stream",
     "text": [
      "Accuracy of Euclidean: 0.1654\n",
      "Accuracy of Cosine: 0.155\n",
      "Accuracy of Jaccard: 0.1642\n"
     ]
    }
   ],
   "source": [
    "def predictAccuracy(labels, trueLabels):\n",
    "    N = len(trueLabels)\n",
    "    numCorrect = 0\n",
    "    for L, TL in zip(labels,trueLabels):\n",
    "        if L == TL:\n",
    "            numCorrect += 1\n",
    "    \n",
    "    return numCorrect/N\n",
    "\n",
    "print('Accuracy of Euclidean:',predictAccuracy(euclideanLabels,trueLabels))\n",
    "print('Accuracy of Cosine:',predictAccuracy(cosineLabels,trueLabels))\n",
    "print('Accuracy of Jaccard:',predictAccuracy(jaccardLabels,trueLabels))"
   ]
  },
  {
   "cell_type": "code",
   "execution_count": 17,
   "metadata": {},
   "outputs": [],
   "source": [
    "def kMeansEuclideanQ3(data,numClusters):\n",
    "    centroids = rnd.sample(data, numClusters)\n",
    "    prevSSE = float('inf')\n",
    "    iterations = 0\n",
    "    while True:\n",
    "        labels = assignPointsEuclidean(data, centroids)\n",
    "        newCentroids = computeNewCentroids(data,labels,centroids)\n",
    "        newSSE = sSE(data,labels,newCentroids)\n",
    "        if centroids == newCentroids:\n",
    "            print('Break from centroids not changing')\n",
    "            break\n",
    "        if prevSSE <= newSSE:\n",
    "            print('prevSSE',prevSSE)\n",
    "            print('new SSE', newSSE)\n",
    "            print('Break from SSE not improving')\n",
    "            break\n",
    "        if iterations == 500:\n",
    "            print('Break from reaching max iterations')\n",
    "            break\n",
    "        \n",
    "        centroids = newCentroids\n",
    "        prevSSE = newSSE\n",
    "        iterations += 1\n",
    "\n",
    "    print('Num of iterations', iterations)\n",
    "    \n",
    "    return centroids, labels\n",
    "\n",
    "def kMeansCosineQ3(data,numClusters):\n",
    "    centroids = rnd.sample(data, numClusters)\n",
    "    prevSSE = float('inf')\n",
    "    iterations = 0\n",
    "    while True:\n",
    "        labels = assignPointsCosine(data, centroids)\n",
    "        newCentroids = computeNewCentroids(data,labels,centroids)\n",
    "        newSSE = sSE(data,labels,newCentroids)\n",
    "        if centroids == newCentroids:\n",
    "            print('Break from centroids not changing')\n",
    "            break\n",
    "        if prevSSE <= newSSE:\n",
    "            print('Break from SSE not improving')\n",
    "            break\n",
    "        if iterations == 500:\n",
    "            print('Break from reaching max iterations')\n",
    "            break\n",
    "        \n",
    "        centroids = newCentroids\n",
    "        prevSSE = newSSE\n",
    "        iterations += 1\n",
    "\n",
    "    print('Num of iterations', iterations)\n",
    "\n",
    "    return centroids, labels\n",
    "\n",
    "def kMeansJaccardQ3(data,numClusters):\n",
    "    centroids = rnd.sample(data, numClusters)\n",
    "    prevSSE = float('inf')\n",
    "    iterations = 0\n",
    "    while True:\n",
    "        labels = assignPointsJaccard(data, centroids)\n",
    "        newCentroids = computeNewCentroids(data,labels,centroids)\n",
    "        newSSE = sSE(data,labels,newCentroids)\n",
    "        if centroids == newCentroids:\n",
    "            print('Break from centroids not changing')\n",
    "            break\n",
    "        if prevSSE <= newSSE:\n",
    "            print('Break from SSE not improving')\n",
    "            break\n",
    "        if iterations == 500:\n",
    "            print('Break from reaching max iterations')\n",
    "            break\n",
    "            \n",
    "        centroids = newCentroids\n",
    "        prevSSE = newSSE\n",
    "        iterations += 1\n",
    "    \n",
    "    print('Num of iterations', iterations)\n",
    "\n",
    "    return centroids, labels"
   ]
  },
  {
   "cell_type": "code",
   "execution_count": 18,
   "metadata": {},
   "outputs": [
    {
     "name": "stdout",
     "output_type": "stream",
     "text": [
      "Break from centroids not changing\n",
      "Num of iterations 34\n"
     ]
    }
   ],
   "source": [
    "euclideanCentroidsq3, euclideanLabelsq3 = kMeansEuclideanQ3(data,10)"
   ]
  },
  {
   "cell_type": "code",
   "execution_count": 19,
   "metadata": {},
   "outputs": [
    {
     "name": "stdout",
     "output_type": "stream",
     "text": [
      "Break from SSE not improving\n",
      "Num of iterations 34\n"
     ]
    }
   ],
   "source": [
    "cosineCentroidsq3, cosineLabelsq3 = kMeansCosineQ3(data,10)"
   ]
  },
  {
   "cell_type": "code",
   "execution_count": 20,
   "metadata": {},
   "outputs": [
    {
     "name": "stdout",
     "output_type": "stream",
     "text": [
      "Break from SSE not improving\n",
      "Num of iterations 32\n"
     ]
    }
   ],
   "source": [
    "jaccardCentroidsq3, jaccardLabelsq3 = kMeansJaccardQ3(data, 10)"
   ]
  },
  {
   "cell_type": "markdown",
   "metadata": {},
   "source": [
    "Code for Q4"
   ]
  },
  {
   "cell_type": "code",
   "execution_count": 24,
   "metadata": {},
   "outputs": [],
   "source": [
    "\n",
    "def kMeansEuclideanQ4b(data,numClusters):\n",
    "    centroids = rnd.sample(data, numClusters)\n",
    "    prevSSE = float('inf')\n",
    "    iterations = 0\n",
    "    while True:\n",
    "        labels = assignPointsEuclidean(data, centroids)\n",
    "        newCentroids = computeNewCentroids(data,labels,centroids)\n",
    "        newSSE = sSE(data,labels,newCentroids)\n",
    "        if prevSSE <= newSSE:\n",
    "            print('Break from SSE not improving')\n",
    "            break\n",
    "\n",
    "        centroids = newCentroids\n",
    "        prevSSE = newSSE\n",
    "        iterations += 1\n",
    "\n",
    "    print('Num of iterations', iterations)\n",
    "    print('Euclidean SSE:', newSSE)\n",
    "    \n",
    "    return centroids, labels\n",
    "\n",
    "def kMeansEuclideanQ4c(data,numClusters):\n",
    "    centroids = rnd.sample(data, numClusters)\n",
    "    prevSSE = float('inf')\n",
    "    iterations = 0\n",
    "    while True:\n",
    "        labels = assignPointsEuclidean(data, centroids)\n",
    "        newCentroids = computeNewCentroids(data,labels,centroids)\n",
    "        newSSE = sSE(data,labels,newCentroids)\n",
    "        if iterations == 100:\n",
    "            print('Break from reaching max iterations')\n",
    "            break\n",
    "        \n",
    "        centroids = newCentroids\n",
    "        prevSSE = newSSE\n",
    "        iterations += 1\n",
    "    print('Num of iterations', iterations)\n",
    "    print('Euclidean SSE:', newSSE)\n",
    "    return centroids, labels\n",
    "\n",
    "\n",
    "def kMeansCosineQ4b(data,numClusters):\n",
    "    centroids = rnd.sample(data, numClusters)\n",
    "    prevSSE = float('inf')\n",
    "    iterations = 0\n",
    "    while True:\n",
    "        labels = assignPointsCosine(data, centroids)\n",
    "        newCentroids = computeNewCentroids(data,labels,centroids)\n",
    "        newSSE = sSE(data,labels,newCentroids)\n",
    "        if prevSSE <= newSSE:\n",
    "            print('Break from SSE not improving')\n",
    "            break\n",
    "        \n",
    "        centroids = newCentroids\n",
    "        prevSSE = newSSE\n",
    "        iterations += 1\n",
    "\n",
    "    print('Num of iterations', iterations)\n",
    "    print('Cosine SSE:', newSSE)\n",
    "\n",
    "    return centroids, labels\n",
    "\n",
    "def kMeansCosineQ4c(data,numClusters):\n",
    "    centroids = rnd.sample(data, numClusters)\n",
    "    prevSSE = float('inf')\n",
    "    iterations = 0\n",
    "    while True:\n",
    "        labels = assignPointsCosine(data, centroids)\n",
    "        newCentroids = computeNewCentroids(data,labels,centroids)\n",
    "        newSSE = sSE(data,labels,newCentroids)\n",
    "        if iterations == 100:\n",
    "            print('Break from reaching max iterations')\n",
    "            break\n",
    "        \n",
    "        centroids = newCentroids\n",
    "        prevSSE = newSSE\n",
    "        iterations += 1\n",
    "\n",
    "    print('Num of iterations', iterations)\n",
    "    print('Cosine SSE:', newSSE)\n",
    "\n",
    "    return centroids, labels\n",
    "\n",
    "def kMeansJaccardQ4b(data,numClusters):\n",
    "    centroids = rnd.sample(data, numClusters)\n",
    "    prevSSE = float('inf')\n",
    "    iterations = 0\n",
    "    while True:\n",
    "        labels = assignPointsJaccard(data, centroids)\n",
    "        newCentroids = computeNewCentroids(data,labels,centroids)\n",
    "        newSSE = sSE(data,labels,newCentroids)\n",
    "        if prevSSE <= newSSE:\n",
    "            print('Break from SSE not improving')\n",
    "            break\n",
    "            \n",
    "        centroids = newCentroids\n",
    "        prevSSE = newSSE\n",
    "        iterations += 1\n",
    "    \n",
    "    print('Num of iterations', iterations)\n",
    "    print('Jaccard SSE:', newSSE)\n",
    "\n",
    "    return centroids, labels\n",
    "\n",
    "def kMeansJaccardQ4c(data,numClusters):\n",
    "    centroids = rnd.sample(data, numClusters)\n",
    "    prevSSE = float('inf')\n",
    "    iterations = 0\n",
    "    while True:\n",
    "        labels = assignPointsJaccard(data, centroids)\n",
    "        newCentroids = computeNewCentroids(data,labels,centroids)\n",
    "        newSSE = sSE(data,labels,newCentroids)\n",
    "\n",
    "        if iterations == 100:\n",
    "            break\n",
    "            \n",
    "        centroids = newCentroids\n",
    "        prevSSE = newSSE\n",
    "        iterations += 1\n",
    "    \n",
    "    print('Num of iterations', iterations)\n",
    "    print('Jaccard SSE:', newSSE)\n",
    "\n",
    "    return centroids, labels"
   ]
  },
  {
   "cell_type": "code",
   "execution_count": 22,
   "metadata": {},
   "outputs": [
    {
     "name": "stdout",
     "output_type": "stream",
     "text": [
      "Break from SSE not improving\n",
      "Num of iterations 51\n",
      "Euclidean SSE: 25367259439.050186\n",
      "Break from SSE not improving\n",
      "Num of iterations 23\n",
      "Cosine SSE: 25496934056.703373\n",
      "Break from SSE not improving\n",
      "Num of iterations 17\n",
      "Jaccard SSE: 25457448407.770412\n"
     ]
    }
   ],
   "source": [
    "x, y = kMeansEuclideanQ4b(data,10)\n",
    "x, y = kMeansCosineQ4b(data,10)\n",
    "x, y = kMeansJaccardQ4b(data,10)"
   ]
  },
  {
   "cell_type": "code",
   "execution_count": 25,
   "metadata": {},
   "outputs": [
    {
     "name": "stdout",
     "output_type": "stream",
     "text": [
      "Break from reaching max iterations\n",
      "Num of iterations 100\n",
      "Euclidean SSE: 25404933340.755253\n",
      "Break from reaching max iterations\n",
      "Num of iterations 100\n",
      "Cosine SSE: 25422699865.141636\n",
      "Num of iterations 100\n",
      "Jaccard SSE: 25452099483.324234\n"
     ]
    }
   ],
   "source": [
    "x, y = kMeansEuclideanQ4c(data,10)\n",
    "x, y = kMeansCosineQ4c(data,10)\n",
    "x, y = kMeansJaccardQ4c(data,10)"
   ]
  }
 ],
 "metadata": {
  "kernelspec": {
   "display_name": "Python 3.8.10 64-bit",
   "language": "python",
   "name": "python3"
  },
  "language_info": {
   "codemirror_mode": {
    "name": "ipython",
    "version": 3
   },
   "file_extension": ".py",
   "mimetype": "text/x-python",
   "name": "python",
   "nbconvert_exporter": "python",
   "pygments_lexer": "ipython3",
   "version": "3.8.10"
  },
  "orig_nbformat": 4,
  "vscode": {
   "interpreter": {
    "hash": "e7370f93d1d0cde622a1f8e1c04877d8463912d04d973331ad4851f04de6915a"
   }
  }
 },
 "nbformat": 4,
 "nbformat_minor": 2
}
